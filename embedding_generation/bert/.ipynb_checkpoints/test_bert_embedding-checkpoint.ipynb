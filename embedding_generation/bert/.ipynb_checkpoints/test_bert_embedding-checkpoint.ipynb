{
 "cells": [
  {
   "cell_type": "code",
   "execution_count": 1,
   "id": "f4857dc0",
   "metadata": {},
   "outputs": [],
   "source": [
    "import pandas as pd\n",
    "import matplotlib.pyplot as plt"
   ]
  },
  {
   "cell_type": "code",
   "execution_count": 2,
   "id": "90e23bd7",
   "metadata": {},
   "outputs": [
    {
     "name": "stderr",
     "output_type": "stream",
     "text": [
      "2022-06-23 01:48:00.207817: W tensorflow/stream_executor/platform/default/dso_loader.cc:64] Could not load dynamic library 'libcudart.so.11.0'; dlerror: libcudart.so.11.0: cannot open shared object file: No such file or directory\n",
      "2022-06-23 01:48:00.207852: I tensorflow/stream_executor/cuda/cudart_stub.cc:29] Ignore above cudart dlerror if you do not have a GPU set up on your machine.\n"
     ]
    }
   ],
   "source": [
    "from sentence_transformers import SentenceTransformer\n",
    "\n",
    "model = SentenceTransformer('xlm-r-distilroberta-base-paraphrase-v1')"
   ]
  },
  {
   "cell_type": "code",
   "execution_count": 3,
   "id": "99a45e8a",
   "metadata": {},
   "outputs": [
    {
     "name": "stderr",
     "output_type": "stream",
     "text": [
      "22/06/23 01:48:24 WARN Utils: Your hostname, iccluster039 resolves to a loopback address: 127.0.1.1; using 10.90.38.15 instead (on interface ens786f0)\n",
      "22/06/23 01:48:24 WARN Utils: Set SPARK_LOCAL_IP if you need to bind to another address\n",
      "WARNING: An illegal reflective access operation has occurred\n",
      "WARNING: Illegal reflective access by org.apache.spark.unsafe.Platform (file:/home/veselovs/spark-3.2.1-bin-hadoop2.7/jars/spark-unsafe_2.12-3.2.1.jar) to constructor java.nio.DirectByteBuffer(long,int)\n",
      "WARNING: Please consider reporting this to the maintainers of org.apache.spark.unsafe.Platform\n",
      "WARNING: Use --illegal-access=warn to enable warnings of further illegal reflective access operations\n",
      "WARNING: All illegal access operations will be denied in a future release\n",
      "Using Spark's default log4j profile: org/apache/spark/log4j-defaults.properties\n",
      "Setting default log level to \"WARN\".\n",
      "To adjust logging level use sc.setLogLevel(newLevel). For SparkR, use setLogLevel(newLevel).\n",
      "22/06/23 01:48:24 WARN NativeCodeLoader: Unable to load native-hadoop library for your platform... using builtin-java classes where applicable\n",
      "22/06/23 01:48:25 WARN Utils: Service 'SparkUI' could not bind on port 4040. Attempting port 4041.\n"
     ]
    }
   ],
   "source": [
    "import enum\n",
    "import pandas as pd \n",
    "import os\n",
    "\n",
    "import pyspark.sql.functions as F\n",
    "from pyspark.sql.types import *\n",
    "import pyspark\n",
    "from pyspark.sql import SparkSession\n",
    "from pyspark import SparkContext\n",
    "from pyspark.sql import Row\n",
    "import pyarrow.parquet as pq\n",
    "import pyarrow as pa\n",
    "import glob\n",
    "\n",
    "import sys\n",
    "import os\n",
    "sys.path.append(\"/scratch/venia/web2wiki/\")\n",
    "sys.setrecursionlimit(10000)\n",
    "\n",
    "import re\n",
    "import time\n",
    "from bs4 import BeautifulSoup\n",
    "\n",
    "from settings import WIKI_PAGES_DIR\n",
    "\n",
    "os.environ['SPARK_HOME'] = \"/home/veselovs/spark-3.2.1-bin-hadoop2.7\"\n",
    "os.environ['JAVA_HOME'] = \"/home/veselovs/jdk-13.0.2\"\n",
    "spark = SparkSession.builder.getOrCreate()\n",
    "\n",
    "\n"
   ]
  },
  {
   "cell_type": "code",
   "execution_count": 5,
   "id": "2b1facfa",
   "metadata": {},
   "outputs": [],
   "source": [
    "files = glob.glob(WIKI_PAGES_DIR+\"/*\")[0:200]\n",
    "\n"
   ]
  },
  {
   "cell_type": "code",
   "execution_count": 6,
   "id": "3cc915fb",
   "metadata": {},
   "outputs": [],
   "source": [
    "\n",
    "regex_search = r\"(en.wikipedia\\.org[\\s\\/a-zA-ZäöüÄÖÜßþóúí\\_\\?(\\),\\,\\-\\#\\&\\$\\@\\!0-9\\.\\%\\–\\'\\:\\!]+)\"\n",
    "\n",
    "@F.udf\n",
    "def extract_regex(x):\n",
    "    links = re.findall(regex_search, x)\n",
    "    return links\n",
    "\n",
    "def extract_soup(x: str, only_para = False):\n",
    "    soup = BeautifulSoup(x,features=\"lxml\")\n",
    "    text = soup.get_text()\n",
    "    \n",
    "    return text\n",
    "\n",
    "\n",
    "extract_soup_udf = F.udf(extract_soup)"
   ]
  },
  {
   "cell_type": "code",
   "execution_count": 10,
   "id": "1250bb89",
   "metadata": {},
   "outputs": [],
   "source": [
    "df = spark.read.load(files)\n"
   ]
  },
  {
   "cell_type": "code",
   "execution_count": 12,
   "id": "cf221449",
   "metadata": {},
   "outputs": [
    {
     "name": "stdout",
     "output_type": "stream",
     "text": [
      "root\n",
      " |-- url: string (nullable = true)\n",
      " |-- content: string (nullable = true)\n",
      " |-- text: string (nullable = true)\n",
      "\n"
     ]
    }
   ],
   "source": [
    "hey.printSchema()"
   ]
  },
  {
   "cell_type": "code",
   "execution_count": 11,
   "id": "92a03103",
   "metadata": {},
   "outputs": [],
   "source": [
    "hey = df.withColumn(\"text\",extract_soup_udf(F.col(\"content\")))\n",
    "\n"
   ]
  },
  {
   "cell_type": "code",
   "execution_count": 13,
   "id": "bb57290f",
   "metadata": {},
   "outputs": [
    {
     "name": "stderr",
     "output_type": "stream",
     "text": [
      "                                                                                \r"
     ]
    }
   ],
   "source": [
    "txt = hey.select(\"url\",\"text\").toPandas()"
   ]
  },
  {
   "cell_type": "code",
   "execution_count": 14,
   "id": "230f8acb",
   "metadata": {},
   "outputs": [],
   "source": [
    "sentences = txt[\"text\"].values"
   ]
  },
  {
   "cell_type": "code",
   "execution_count": null,
   "id": "96d89145",
   "metadata": {},
   "outputs": [],
   "source": []
  },
  {
   "cell_type": "code",
   "execution_count": null,
   "id": "82210776",
   "metadata": {},
   "outputs": [],
   "source": [
    "sentence1 = \"\"\"The Coca-Cola Company's formula for Coca-Cola syrup, which bottlers combine with carbonated \n",
    "water to create the company's flagship cola soft drink, is a closely guarded trade secret.\"\"\"\n",
    "sentence2 = \"\"\"Pepsi is a carbonated soft drink manufactured by PepsiCo. Originally created and developed in 1893 by Caleb Bradham and introduced as Brad's Drink, \n",
    "it was renamed as Pepsi-Cola in 1898, and then shortened to Pepsi in 1961.\"\"\"\n",
    "sentence3 = \"\"\"The dog (Canis familiaris when considered a distinct species or Canis lupus familiaris when considered a \n",
    "subspecies of the wolf) is a domesticated carnivore of the family Canidae.\"\"\"\n",
    "sentence4 = \"\"\"The cat (Felis catus) is a domestic species of small carnivorous mammal. It is the only \n",
    "domesticated species in the family Felidae and is often referred to as the domestic cat to distinguish it from the wild members of the family\"\"\"\n",
    "sentence5 = \"\"\"Apple Inc. is an American multinational technology company headquartered in Cupertino, California, that designs, develops, and \n",
    "sells consumer electronics, computer software, and online services.\"\"\"\n",
    "sentence6 = \"\"\"Microsoft Corporation is an American multinational technology company with headquarters in Redmond, Washington. It develops, manufactures, \n",
    "licenses, supports, and sells computer software, consumer electronics, personal computers, and related services.\"\"\"\n",
    "\n",
    "# sentences = [sentence1, sentence2, sentence3, sentence4, sentence5, sentence6]\n",
    "\n",
    "embeddings = model.encode(sentences)\n",
    "embeddings"
   ]
  },
  {
   "cell_type": "code",
   "execution_count": 37,
   "id": "ea4d7c9e",
   "metadata": {},
   "outputs": [],
   "source": [
    "txt[\"url\"].to_csv(\"/home/veselovs/html/urls.tsv\", sep = \"\\t\", index=False, header = None)"
   ]
  },
  {
   "cell_type": "code",
   "execution_count": 23,
   "id": "818c0c69",
   "metadata": {},
   "outputs": [],
   "source": [
    "from sklearn.decomposition import PCA\n",
    "\n",
    "reduced2d = PCA(n_components=2).fit_transform(embeddings)\n"
   ]
  },
  {
   "cell_type": "code",
   "execution_count": 30,
   "id": "abe7f91a",
   "metadata": {},
   "outputs": [],
   "source": [
    "pca = pd.DataFrame(reduced2d)"
   ]
  },
  {
   "cell_type": "code",
   "execution_count": 35,
   "id": "80558386",
   "metadata": {},
   "outputs": [
    {
     "data": {
      "text/plain": [
       "<matplotlib.collections.PathCollection at 0x7fb5955f6550>"
      ]
     },
     "execution_count": 35,
     "metadata": {},
     "output_type": "execute_result"
    },
    {
     "data": {
      "image/png": "[encoded data removed]",
      "text/plain": [
       "<Figure size 432x288 with 1 Axes>"
      ]
     },
     "metadata": {
      "needs_background": "light"
     },
     "output_type": "display_data"
    }
   ],
   "source": [
    "plt.scatter(pca[0], pca[1])"
   ]
  },
  {
   "cell_type": "code",
   "execution_count": 39,
   "id": "481f0cf5",
   "metadata": {},
   "outputs": [],
   "source": [
    "pd.DataFrame(embeddings).to_csv(\"/home/veselovs/html/vecs.tsv\",sep=\"\\t\", index=False, header = None)"
   ]
  },
  {
   "cell_type": "code",
   "execution_count": 40,
   "id": "f67a6a52",
   "metadata": {},
   "outputs": [
    {
     "data": {
      "text/plain": [
       "(6249, 768)"
      ]
     },
     "execution_count": 40,
     "metadata": {},
     "output_type": "execute_result"
    }
   ],
   "source": [
    "embeddings.shape"
   ]
  },
  {
   "cell_type": "code",
   "execution_count": null,
   "id": "824928f3",
   "metadata": {},
   "outputs": [],
   "source": []
  }
 ],
 "metadata": {
  "kernelspec": {
   "display_name": "Python 3 (ipykernel)",
   "language": "python",
   "name": "python3"
  },
  "language_info": {
   "codemirror_mode": {
    "name": "ipython",
    "version": 3
   },
   "file_extension": ".py",
   "mimetype": "text/x-python",
   "name": "python",
   "nbconvert_exporter": "python",
   "pygments_lexer": "ipython3",
   "version": "3.9.7"
  }
 },
 "nbformat": 4,
 "nbformat_minor": 5
}
