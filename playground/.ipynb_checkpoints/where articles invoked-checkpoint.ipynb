{
 "cells": [
  {
   "cell_type": "code",
   "execution_count": 1,
   "id": "e02a3fdf",
   "metadata": {},
   "outputs": [
    {
     "name": "stderr",
     "output_type": "stream",
     "text": [
      "/home/veselovs/miniconda3/lib/python3.9/site-packages/huggingface_hub/snapshot_download.py:6: FutureWarning: snapshot_download.py has been made private and will no longer be available from version 0.11. Please use `from huggingface_hub import snapshot_download` to import the only public function in this module. Other members of the file may be changed without a deprecation notice.\n",
      "  warnings.warn(\n",
      "2022-10-07 22:36:04.343839: W tensorflow/stream_executor/platform/default/dso_loader.cc:64] Could not load dynamic library 'libcudart.so.11.0'; dlerror: libcudart.so.11.0: cannot open shared object file: No such file or directory\n",
      "2022-10-07 22:36:04.343876: I tensorflow/stream_executor/cuda/cudart_stub.cc:29] Ignore above cudart dlerror if you do not have a GPU set up on your machine.\n",
      "22/10/07 22:36:12 WARN Utils: Your hostname, iccluster039 resolves to a loopback address: 127.0.1.1; using 10.90.38.15 instead (on interface ens786f0)\n",
      "22/10/07 22:36:12 WARN Utils: Set SPARK_LOCAL_IP if you need to bind to another address\n",
      "WARNING: An illegal reflective access operation has occurred\n",
      "WARNING: Illegal reflective access by org.apache.spark.unsafe.Platform (file:/home/veselovs/spark-3.2.1-bin-hadoop2.7/jars/spark-unsafe_2.12-3.2.1.jar) to constructor java.nio.DirectByteBuffer(long,int)\n",
      "WARNING: Please consider reporting this to the maintainers of org.apache.spark.unsafe.Platform\n",
      "WARNING: Use --illegal-access=warn to enable warnings of further illegal reflective access operations\n",
      "WARNING: All illegal access operations will be denied in a future release\n",
      "Using Spark's default log4j profile: org/apache/spark/log4j-defaults.properties\n",
      "Setting default log level to \"WARN\".\n",
      "To adjust logging level use sc.setLogLevel(newLevel). For SparkR, use setLogLevel(newLevel).\n",
      "22/10/07 22:36:13 WARN NativeCodeLoader: Unable to load native-hadoop library for your platform... using builtin-java classes where applicable\n",
      "22/10/07 22:36:13 WARN SparkConf: Note that spark.local.dir will be overridden by the value set by the cluster manager (via SPARK_LOCAL_DIRS in mesos/standalone/kubernetes and LOCAL_DIRS in YARN).\n",
      "22/10/07 22:36:14 WARN Utils: Service 'SparkUI' could not bind on port 4040. Attempting port 4041.\n",
      "22/10/07 22:36:14 WARN Utils: Service 'SparkUI' could not bind on port 4041. Attempting port 4042.\n",
      "22/10/07 22:36:14 WARN Utils: Service 'SparkUI' could not bind on port 4042. Attempting port 4043.\n"
     ]
    }
   ],
   "source": [
    "import pyspark.sql.functions as F\n",
    "from pyspark.sql.types import *\n",
    "import pyspark\n",
    "from pyspark.sql import SparkSession\n",
    "from pyspark import SparkContext\n",
    "from pyspark.sql import Row\n",
    "import pyarrow.parquet as pq\n",
    "import pyarrow as pa\n",
    "import os\n",
    "\n",
    "from homepage2vec.model import WebsiteClassifier\n",
    "\n",
    "\n",
    "\n",
    "os.environ['SPARK_HOME'] = \"/home/veselovs/spark-3.2.1-bin-hadoop2.7\"\n",
    "os.environ['JAVA_HOME'] = \"/home/veselovs/jdk-13.0.2\"\n",
    "spark = SparkSession.builder.getOrCreate()\n"
   ]
  },
  {
   "cell_type": "code",
   "execution_count": 2,
   "id": "e5d55b66",
   "metadata": {},
   "outputs": [],
   "source": [
    "import pandas as pd\n",
    "import matplotlib.pyplot as plt\n",
    "import numpy as np\n",
    "import seaborn as sns\n",
    "\n",
    "from collections import OrderedDict\n",
    "sns.set_style(\"whitegrid\", {'axes.grid' : False})\n"
   ]
  },
  {
   "cell_type": "code",
   "execution_count": 3,
   "id": "86cb4174",
   "metadata": {},
   "outputs": [
    {
     "name": "stderr",
     "output_type": "stream",
     "text": [
      "                                                                                \r"
     ]
    }
   ],
   "source": [
    "common_crawl = spark.read.parquet(\"/scratch/venia/web2wiki/data/common_crawl_random_sample.parquet\")\n"
   ]
  },
  {
   "cell_type": "code",
   "execution_count": null,
   "id": "b272d0db",
   "metadata": {},
   "outputs": [],
   "source": []
  },
  {
   "cell_type": "code",
   "execution_count": 5,
   "id": "4fed0936",
   "metadata": {},
   "outputs": [],
   "source": [
    "@F.udf \n",
    "def reverse_reverse_host(x):\n",
    "    x = x.split(\".\")\n",
    "    x = x[-1::-1]\n",
    "    x = \".\".join(x)\n",
    "    return x"
   ]
  },
  {
   "cell_type": "code",
   "execution_count": 6,
   "id": "17d28f86",
   "metadata": {},
   "outputs": [],
   "source": [
    "common_crawl = common_crawl.withColumn(\"domain\", reverse_reverse_host(\"_c4\"))"
   ]
  },
  {
   "cell_type": "code",
   "execution_count": 7,
   "id": "3ecb9add",
   "metadata": {},
   "outputs": [],
   "source": [
    "common_crawl = common_crawl.select(\"*\").orderBy(F.rand())\n"
   ]
  },
  {
   "cell_type": "code",
   "execution_count": 8,
   "id": "3e7281d8",
   "metadata": {},
   "outputs": [],
   "source": [
    "sample = common_crawl.sample(0.01)"
   ]
  },
  {
   "cell_type": "code",
   "execution_count": 10,
   "id": "21bedbea",
   "metadata": {},
   "outputs": [],
   "source": [
    "sample = sample.filter(F.col(\"domain\").rlike(\"\\.com|\\.ca|\\.co\\.uk|\\.org\"))"
   ]
  },
  {
   "cell_type": "code",
   "execution_count": null,
   "id": "727638e3",
   "metadata": {},
   "outputs": [],
   "source": []
  },
  {
   "cell_type": "code",
   "execution_count": 17,
   "id": "d716949f",
   "metadata": {},
   "outputs": [
    {
     "name": "stderr",
     "output_type": "stream",
     "text": [
      "                                                                                \r"
     ]
    }
   ],
   "source": [
    "sample = sample.select(\"domain\").toPandas()"
   ]
  },
  {
   "cell_type": "code",
   "execution_count": null,
   "id": "6d3b8af9",
   "metadata": {},
   "outputs": [],
   "source": []
  },
  {
   "cell_type": "code",
   "execution_count": null,
   "id": "28c2dcd4",
   "metadata": {},
   "outputs": [],
   "source": []
  },
  {
   "cell_type": "code",
   "execution_count": 12,
   "id": "7f38321b",
   "metadata": {},
   "outputs": [],
   "source": [
    "df = spark.read.load(\"/scratch/venia/web2wiki/data/merged_metadata.parquet\")"
   ]
  },
  {
   "cell_type": "code",
   "execution_count": 13,
   "id": "0fb62599",
   "metadata": {},
   "outputs": [],
   "source": [
    "df = df.select(\"*\").orderBy(F.rand())\n"
   ]
  },
  {
   "cell_type": "code",
   "execution_count": 14,
   "id": "8e4125bd",
   "metadata": {},
   "outputs": [],
   "source": [
    "df = df.dropDuplicates(subset=[\"domain\"]).select(\"domain\")"
   ]
  },
  {
   "cell_type": "code",
   "execution_count": 15,
   "id": "bcab7812",
   "metadata": {},
   "outputs": [],
   "source": [
    "wiki_sample = df.sample(0.05)"
   ]
  },
  {
   "cell_type": "code",
   "execution_count": 16,
   "id": "82996def",
   "metadata": {
    "scrolled": true
   },
   "outputs": [
    {
     "name": "stderr",
     "output_type": "stream",
     "text": [
      "                                                                                \r"
     ]
    }
   ],
   "source": [
    "wiki_sample = wiki_sample.toPandas()"
   ]
  },
  {
   "cell_type": "code",
   "execution_count": 18,
   "id": "621bc7f4",
   "metadata": {},
   "outputs": [],
   "source": [
    "\n",
    "\n",
    "wiki_sample.head(50000).to_csv(\"/scratch/venia/web2wiki/data/homepage2vec/wiki_sample.csv\",index=False)\n",
    "\n",
    "sample.head(50000).to_csv(\"/scratch/venia/web2wiki/data/homepage2vec/common_crawl_sample.csv\",index=False)\n",
    "\n",
    "\n"
   ]
  },
  {
   "cell_type": "code",
   "execution_count": 3,
   "id": "722eaa52",
   "metadata": {},
   "outputs": [],
   "source": [
    "wiki_sample = pd.read_csv(\"/scratch/venia/web2wiki/data/homepage2vec/wiki_sample.csv\")\n",
    "\n",
    "sample = pd.read_csv(\"/scratch/venia/web2wiki/data/homepage2vec/common_crawl_sample.csv\")\n"
   ]
  },
  {
   "cell_type": "code",
   "execution_count": 4,
   "id": "8957366e",
   "metadata": {},
   "outputs": [],
   "source": [
    "ws = wiki_sample.head(10000)\n",
    "cs = sample.head(10000)"
   ]
  },
  {
   "cell_type": "code",
   "execution_count": 5,
   "id": "e72075c2",
   "metadata": {},
   "outputs": [],
   "source": [
    "model = WebsiteClassifier(cpu_threads_count=20, dataloader_workers=20)\n"
   ]
  },
  {
   "cell_type": "code",
   "execution_count": 7,
   "id": "db18165c",
   "metadata": {
    "scrolled": true
   },
   "outputs": [],
   "source": [
    "def get_scores(domain):\n",
    "    try:\n",
    "        website = model.fetch_website(domain)\n",
    "        scores, embeddings = model.predict(website)\n",
    "    except:\n",
    "        scores = None\n",
    "    return (domain,scores)\n",
    "\n",
    "\n",
    "def process_samples(df):\n",
    "    scores_list = []\n",
    "    for i, value in df.iterrows():\n",
    "        domain = value[\"domain\"]\n",
    "        scores_list.append(get_scores(domain))\n",
    "    return scores_list\n",
    "        "
   ]
  },
  {
   "cell_type": "code",
   "execution_count": 29,
   "id": "412b3b2b",
   "metadata": {},
   "outputs": [
    {
     "name": "stdout",
     "output_type": "stream",
     "text": [
      "149.29002571105957\n"
     ]
    }
   ],
   "source": [
    "import time\n",
    "t = time.time()\n",
    "vals = process_samples(cs.sample(100))\n",
    "print(time.time()- t)"
   ]
  },
  {
   "cell_type": "code",
   "execution_count": null,
   "id": "f04498df",
   "metadata": {},
   "outputs": [],
   "source": []
  },
  {
   "cell_type": "code",
   "execution_count": null,
   "id": "f74eb9a5",
   "metadata": {
    "scrolled": true
   },
   "outputs": [
    {
     "name": "stdout",
     "output_type": "stream",
     "text": [
      "Starting\n"
     ]
    },
    {
     "name": "stderr",
     "output_type": "stream",
     "text": [
      "/home/veselovs/miniconda3/lib/python3.9/site-packages/huggingface_hub/file_download.py:621: FutureWarning: `cached_download` is the legacy way to download files from the HF hub, please consider upgrading to `hf_hub_download`\n",
      "  warnings.warn(\n"
     ]
    }
   ],
   "source": [
    "print(\"Starting\")\n",
    "sample_wiki = process_samples(ws)\n",
    "print(\"ONTO THE WEB\")\n",
    "sample_web = process_samples(cs)"
   ]
  },
  {
   "cell_type": "code",
   "execution_count": null,
   "id": "f822a7c3",
   "metadata": {},
   "outputs": [],
   "source": [
    "\n"
   ]
  },
  {
   "cell_type": "code",
   "execution_count": null,
   "id": "001b5d82",
   "metadata": {},
   "outputs": [],
   "source": []
  },
  {
   "cell_type": "code",
   "execution_count": null,
   "id": "a1366535",
   "metadata": {},
   "outputs": [],
   "source": []
  }
 ],
 "metadata": {
  "kernelspec": {
   "display_name": "Python 3 (ipykernel)",
   "language": "python",
   "name": "python3"
  },
  "language_info": {
   "codemirror_mode": {
    "name": "ipython",
    "version": 3
   },
   "file_extension": ".py",
   "mimetype": "text/x-python",
   "name": "python",
   "nbconvert_exporter": "python",
   "pygments_lexer": "ipython3",
   "version": "3.9.7"
  }
 },
 "nbformat": 4,
 "nbformat_minor": 5
}
