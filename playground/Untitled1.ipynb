{
 "cells": [
  {
   "cell_type": "code",
   "execution_count": null,
   "id": "9fa35e36",
   "metadata": {},
   "outputs": [],
   "source": []
  }
 ],
 "metadata": {
  "kernelspec": {
   "display_name": "Python 3.9.7",
   "language": "python",
   "name": "python3"
  },
  "language_info": {
   "codemirror_mode": {
    "name": "ipython",
    "version": 3
   },
   "file_extension": ".py",
   "mimetype": "text/x-python",
   "name": "python",
   "nbconvert_exporter": "python",
   "pygments_lexer": "ipython3",
   "version": "3.9.7"
  },
  "vscode": {
   "interpreter": {
    "hash": "ed444a188fe79d313a08a1dc27903f38ca296ba8abbf632984a7900d41b64eaa"
   }
  }
 },
 "nbformat": 4,
 "nbformat_minor": 5
}
