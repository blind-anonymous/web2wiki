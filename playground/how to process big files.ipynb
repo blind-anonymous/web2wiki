{
 "cells": [
  {
   "cell_type": "code",
   "execution_count": null,
   "id": "e11621e6",
   "metadata": {
    "scrolled": false
   },
   "outputs": [],
   "source": []
  },
  {
   "cell_type": "code",
   "execution_count": null,
   "id": "97beef8d",
   "metadata": {},
   "outputs": [],
   "source": []
  },
  {
   "cell_type": "code",
   "execution_count": 1,
   "id": "021023e2",
   "metadata": {},
   "outputs": [
    {
     "name": "stderr",
     "output_type": "stream",
     "text": [
      "22/10/27 21:53:32 WARN Utils: Your hostname, iccluster039 resolves to a loopback address: 127.0.1.1; using 10.90.38.15 instead (on interface ens786f0)\n",
      "22/10/27 21:53:32 WARN Utils: Set SPARK_LOCAL_IP if you need to bind to another address\n",
      "WARNING: An illegal reflective access operation has occurred\n",
      "WARNING: Illegal reflective access by org.apache.spark.unsafe.Platform (file:/home/veselovs/spark-3.2.1-bin-hadoop2.7/jars/spark-unsafe_2.12-3.2.1.jar) to constructor java.nio.DirectByteBuffer(long,int)\n",
      "WARNING: Please consider reporting this to the maintainers of org.apache.spark.unsafe.Platform\n",
      "WARNING: Use --illegal-access=warn to enable warnings of further illegal reflective access operations\n",
      "WARNING: All illegal access operations will be denied in a future release\n",
      "Using Spark's default log4j profile: org/apache/spark/log4j-defaults.properties\n",
      "Setting default log level to \"WARN\".\n",
      "To adjust logging level use sc.setLogLevel(newLevel). For SparkR, use setLogLevel(newLevel).\n",
      "22/10/27 21:53:36 WARN NativeCodeLoader: Unable to load native-hadoop library for your platform... using builtin-java classes where applicable\n",
      "22/10/27 21:53:36 WARN SparkConf: Note that spark.local.dir will be overridden by the value set by the cluster manager (via SPARK_LOCAL_DIRS in mesos/standalone/kubernetes and LOCAL_DIRS in YARN).\n",
      "22/10/27 21:53:41 WARN Utils: Service 'SparkUI' could not bind on port 4040. Attempting port 4041.\n",
      "22/10/27 21:53:41 WARN Utils: Service 'SparkUI' could not bind on port 4041. Attempting port 4042.\n",
      "22/10/27 21:53:41 WARN Utils: Service 'SparkUI' could not bind on port 4042. Attempting port 4043.\n"
     ]
    }
   ],
   "source": [
    "import enum\n",
    "from http.client import responses\n",
    "import pandas as pd \n",
    "import os\n",
    "\n",
    "import pyspark.sql.functions as F\n",
    "from pyspark.sql.types import *\n",
    "import pyspark\n",
    "from pyspark.sql import SparkSession\n",
    "from pyspark import SparkContext\n",
    "from pyspark.sql import Row\n",
    "import pyarrow.parquet as pq\n",
    "import pyarrow as pa\n",
    "import glob\n",
    "import numpy as np\n",
    "\n",
    "import sys\n",
    "sys.path.append(\"/scratch/venia/web2wiki/code/helpers/\")\n",
    "sys.path.append(\"/scratch/venia/web2wiki/code/iterative_coding/\")\n",
    "\n",
    "sys.setrecursionlimit(10000)\n",
    "\n",
    "import re\n",
    "import time\n",
    "from bs4 import BeautifulSoup\n",
    "\n",
    "from settings import WIKI_PAGES_DIR\n",
    "import helping_functions as hf\n",
    "\n",
    "os.environ['SPARK_HOME'] = \"/home/veselovs/spark-3.2.1-bin-hadoop2.7/\"\n",
    "os.environ['JAVA_HOME'] = \"/home/veselovs/jdk-13.0.2/\"\n",
    "spark = SparkSession.builder.getOrCreate()\n",
    "\n",
    "files = glob.glob(WIKI_PAGES_DIR+\"/*\")\n",
    "# files = list(np.random.choice(files, 1000))\n",
    "\n",
    "\n",
    "### all_links[0].parent.parent.previous_sibling.previous_sibling.text\n",
    "\n",
    "regex_search = r\"(en.wikipedia\\.org[\\s\\/a-zA-ZäöüÄÖÜßþóúí\\_\\?(\\),\\,\\-\\#\\&\\$\\@\\!0-9\\.\\%\\–\\'\\:\\!]+)\"\n",
    "\n",
    "def find_neighbouring_links(all_links):\n",
    "    all_links2 = []\n",
    "    for link in all_links:\n",
    "        rand_num = np.random.rand()\n",
    "        if rand_num > 0.5:\n",
    "            b = link.find_next(re.compile('^a$'))\n",
    "        else:\n",
    "            b = link.find_previous(re.compile('^a$'))\n",
    "        if b:\n",
    "            all_links2.append(b)\n",
    "        else:\n",
    "            pass\n",
    "    return all_links2\n",
    "        \n",
    "\n",
    "def extract_neighbouring_text2(x,text, num_chars = 150):\n",
    "        \"\"\"\n",
    "        Extracts the neighbouring text of the Wikipedia mention\n",
    "        \"\"\"\n",
    "        ind = x.find(text)\n",
    "        n = len(x)\n",
    "        m = len(text)\n",
    "\n",
    "        if ind - num_chars < 0:\n",
    "            ind_0 = 0\n",
    "        else: ind_0 = ind - num_chars\n",
    "        if ind + num_chars > n:\n",
    "            return x[ind_0:ind] + \" [BREAK] \" +x[ind:ind+m] + \" [BREAK] \" + x[ind + m:]\n",
    "        else: \n",
    "            ind_1 = ind + num_chars + 50\n",
    "            return x[ind_0:ind] + \" [BREAK] \" +x[ind:ind+m] + \" [BREAK] \" + x[ind + m: ind_1]\n",
    "\n",
    "\n",
    "# extract_neighbouring_text = F.udf(extract_neighbouring_text, ArrayType(StringType()))\n",
    "\n",
    "def nbhd_text(x):\n",
    "    hypertext = x.get_text()\n",
    "    text = x.parent.parent.get_text()\n",
    "    return extract_neighbouring_text2(text, hypertext)\n",
    "    \n",
    "\n",
    "def process_headers(x):\n",
    "    soup = BeautifulSoup(x,features=\"lxml\")\n",
    "    all_links = soup.find_all('a', {\"href\": re.compile(regex_search)})\n",
    "#     all_links2 = find_neighbouring_links(all_links)\n",
    "    all_links = all_links \n",
    "\n",
    "    resp = []\n",
    "    for elt in all_links:\n",
    "        resp.append(extract_header(elt))\n",
    "    return resp\n",
    "\n",
    "def is_tag(elt,tag,val = None):\n",
    "    if val == None:\n",
    "        val = 0\n",
    "    if elt.name == tag:\n",
    "        val += 1\n",
    "    elif (elt.name != \"html\"):\n",
    "        val += is_tag(elt.parent, tag,val)\n",
    "    return val\n",
    "\n",
    "\n",
    "\n",
    "def extract_header(elt):\n",
    "    prev_header = elt.find_previous(re.compile('^h[1-6]$'))\n",
    "    if (prev_header != None):\n",
    "        if prev_header.parent == elt.parent.parent.parent:\n",
    "            prev_name = prev_header.text\n",
    "        else:\n",
    "            prev_name = \"None\"\n",
    "    else:\n",
    "        prev_name = \"None\"\n",
    "        distance = \"None\"\n",
    "    return prev_name\n",
    "\n",
    "# process_headers = F.udf(process_headers, ArrayType(StringType()))\n",
    "\n",
    "def is_class(elt, key = None, val=None):\n",
    "#     elt = elt.parent\n",
    "    keys = class_variables.all_classes[key]\n",
    "    if val == None:\n",
    "        val = 0\n",
    "    pattern = re.compile(\"|\".join(keys))\n",
    "    if elt.has_attr(\"class\"):\n",
    "        try:\n",
    "            if len(pattern.findall(elt[\"class\"][0])) > 0:\n",
    "                val += 1\n",
    "            else:\n",
    "                val += 0\n",
    "        except:\n",
    "            val += 0\n",
    "    if elt.has_attr(\"id\"):\n",
    "        try: \n",
    "            if len(pattern.findall(elt[\"id\"][0])) > 0:\n",
    "                val += 1\n",
    "            else:\n",
    "                val += 0\n",
    "        except:\n",
    "            val += 0\n",
    "    elif (elt.name != \"html\"):\n",
    "        val += is_class(elt.parent, key, val)\n",
    "    return val\n",
    "\n",
    "def process_all(x: str):\n",
    "    soup = BeautifulSoup(x,features=\"lxml\")\n",
    "    all_links = soup.find_all('a', {\"href\": re.compile(regex_search)})\n",
    "    classes = []\n",
    "    headers = []\n",
    "    tags = []\n",
    "    nbhd_texts = []\n",
    "    hrefs = []\n",
    "    for elt in all_links:\n",
    "        hrefs.append(elt.get(\"href\"))\n",
    "        classes.append(process_class(elt))\n",
    "        tags.append(process_tags(elt))\n",
    "        nbhd_texts.append(nbhd_text(elt))\n",
    "        headers.append(extract_header(elt))\n",
    "    final_list = []\n",
    "    for link, header, c, t, text in zip(hrefs,headers,classes,tags,nbhd_texts):\n",
    "        final_list.append([link,header,t,c,text])\n",
    "    return final_list\n",
    "process_all_udf = F.udf(\n",
    "    process_all, ArrayType(\n",
    "        StructType(\n",
    "            [StructField(\"href\", StringType()),\n",
    "             StructField(\"header\", StringType()),\n",
    "             StructField(\"tags\", ArrayType(StructType([\n",
    "                 StructField(\"tag\", StringType()),\n",
    "                 StructField(\"tag_count\",IntegerType())\n",
    "             ]))),\n",
    "                StructField(\"classes\", ArrayType(StructType([\n",
    "                 StructField(\"class\", StringType()),\n",
    "                 StructField(\"class_count\",IntegerType())\n",
    "             ]))),\n",
    "             StructField(\"nbhd_text\",StringType())\n",
    "            ])))\n",
    "\n",
    "\n",
    "def process_tags(elt):\n",
    "    tags = tag_instance_of()\n",
    "    for tag in tags.tags():\n",
    "        tags[tag] = tags[tag]+is_tag(elt, tag)\n",
    "    return tags._list()\n",
    "# process_tags = F.udf(process_tags, ArrayType(ArrayType(StructType([StructField(\"tag\", StringType()),StructField(\"count\", IntegerType())]))))\n",
    "\n",
    "    \n",
    "def process_class(elt):\n",
    "    class_vals = class_instance_of()\n",
    "    for c in class_variables.all_classes.keys():\n",
    "        class_vals[c] = class_vals[c]+is_class(elt, c)\n",
    "    return class_vals._list()\n",
    "\n",
    "\n",
    "# process_class = F.udf(process_class, ArrayType(ArrayType(StructType([StructField(\"class\", StringType()),StructField(\"count\", IntegerType())]))))\n",
    "    \n",
    "def extract_soup(x):\n",
    "    soup = BeautifulSoup(x,features=\"lxml\")\n",
    "    all_links = soup.find_all('a', {\"href\": re.compile(regex_search)})\n",
    "#     all_links2 = find_neighbouring_links(all_links)\n",
    "\n",
    "    k = [k.get(\"href\") for k in all_links]\n",
    "    return k\n",
    "# extract_soup = F.udf(extract_soup, ArrayType(StringType()))\n",
    "\n",
    "\n",
    "def chunks(lst, n):\n",
    "    \"\"\"Yield successive n-sized chunks from lst.\"\"\"\n",
    "    for i in range(0, len(lst), n):\n",
    "        yield lst[i:i + n]\n"
   ]
  },
  {
   "cell_type": "code",
   "execution_count": null,
   "id": "8dd67f77",
   "metadata": {},
   "outputs": [],
   "source": []
  },
  {
   "cell_type": "code",
   "execution_count": null,
   "id": "2e6fa146",
   "metadata": {},
   "outputs": [],
   "source": []
  },
  {
   "cell_type": "code",
   "execution_count": null,
   "id": "0a79be13",
   "metadata": {},
   "outputs": [],
   "source": []
  },
  {
   "cell_type": "code",
   "execution_count": null,
   "id": "4a8c7ec3",
   "metadata": {},
   "outputs": [],
   "source": []
  },
  {
   "cell_type": "code",
   "execution_count": null,
   "id": "2fbbb8dc",
   "metadata": {},
   "outputs": [],
   "source": []
  },
  {
   "cell_type": "code",
   "execution_count": null,
   "id": "dd87d17c",
   "metadata": {},
   "outputs": [],
   "source": []
  },
  {
   "cell_type": "code",
   "execution_count": null,
   "id": "c3baf078",
   "metadata": {},
   "outputs": [],
   "source": []
  },
  {
   "cell_type": "code",
   "execution_count": 42,
   "id": "e87bdc56",
   "metadata": {
    "scrolled": true
   },
   "outputs": [],
   "source": [
    "files = glob.glob(\"/scratch/venia/web2wiki/data/web_content/iterative_coding_sample/tag_info_55_*\")"
   ]
  },
  {
   "cell_type": "code",
   "execution_count": null,
   "id": "2315b963",
   "metadata": {},
   "outputs": [],
   "source": []
  },
  {
   "cell_type": "code",
   "execution_count": 43,
   "id": "6fe15649",
   "metadata": {
    "scrolled": true
   },
   "outputs": [
    {
     "name": "stderr",
     "output_type": "stream",
     "text": [
      "                                                                                \r"
     ]
    }
   ],
   "source": [
    "df = spark.read.load(files)"
   ]
  },
  {
   "cell_type": "code",
   "execution_count": 44,
   "id": "fe01a89c",
   "metadata": {},
   "outputs": [
    {
     "name": "stdout",
     "output_type": "stream",
     "text": [
      "root\n",
      " |-- url: string (nullable = true)\n",
      " |-- processed: array (nullable = true)\n",
      " |    |-- element: struct (containsNull = true)\n",
      " |    |    |-- href: string (nullable = true)\n",
      " |    |    |-- header: string (nullable = true)\n",
      " |    |    |-- tags: array (nullable = true)\n",
      " |    |    |    |-- element: struct (containsNull = true)\n",
      " |    |    |    |    |-- tag: string (nullable = true)\n",
      " |    |    |    |    |-- tag_count: integer (nullable = true)\n",
      " |    |    |-- classes: array (nullable = true)\n",
      " |    |    |    |-- element: struct (containsNull = true)\n",
      " |    |    |    |    |-- class: string (nullable = true)\n",
      " |    |    |    |    |-- class_count: integer (nullable = true)\n",
      " |    |    |-- nbhd_text: string (nullable = true)\n",
      "\n"
     ]
    }
   ],
   "source": [
    "df.printSchema()"
   ]
  },
  {
   "cell_type": "code",
   "execution_count": 45,
   "id": "d8f473ea",
   "metadata": {},
   "outputs": [],
   "source": [
    "df = df.filter(F.size('processed') > 0)\n"
   ]
  },
  {
   "cell_type": "code",
   "execution_count": null,
   "id": "273a15d9",
   "metadata": {},
   "outputs": [],
   "source": []
  },
  {
   "cell_type": "code",
   "execution_count": 60,
   "id": "9c8b5b98",
   "metadata": {},
   "outputs": [],
   "source": [
    "df2 = df.withColumn(\"element\",F.explode(\"processed\"))"
   ]
  },
  {
   "cell_type": "code",
   "execution_count": 61,
   "id": "b8b348a8",
   "metadata": {},
   "outputs": [],
   "source": [
    "# df2.printSchema()"
   ]
  },
  {
   "cell_type": "code",
   "execution_count": 62,
   "id": "d80ea3cc",
   "metadata": {},
   "outputs": [],
   "source": [
    "df2 = df2.select(\"url\",\"element\")"
   ]
  },
  {
   "cell_type": "code",
   "execution_count": 63,
   "id": "67898bca",
   "metadata": {},
   "outputs": [],
   "source": [
    "df2 = df2.withColumn(\"href\", F.col(\"element.href\"))\n",
    "df2 = df2.withColumn(\"header\",  F.col(\"element.header\"))\n",
    "df2 = df2.withColumn(\"tags\",  F.col(\"element.tags\"))\n",
    "df2 = df2.withColumn(\"classes\", F.col(\"element.classes\"))\n",
    "df2 = df2.withColumn(\"nbhd_text\", F.col(\"element.nbhd_text\"))"
   ]
  },
  {
   "cell_type": "code",
   "execution_count": 66,
   "id": "254363a6",
   "metadata": {},
   "outputs": [],
   "source": [
    "df2=df2.withColumn('tag_footer', F.col('element.tags').getItem(0)).withColumn('tag_footer', F.col(\"tag_footer.tag_count\"))\n",
    "df2=df2.withColumn('tag_header', F.col('element.tags').getItem(1)).withColumn('tag_header', F.col(\"tag_header.tag_count\"))\n",
    "df2=df2.withColumn('tag_sup', F.col('element.tags').getItem(2)).withColumn('tag_sup', F.col(\"tag_sup.tag_count\"))\n",
    "\n"
   ]
  },
  {
   "cell_type": "code",
   "execution_count": 67,
   "id": "b063db56",
   "metadata": {},
   "outputs": [],
   "source": [
    "# df2.agg(F.sum(\"class_sidebar\")).collect()"
   ]
  },
  {
   "cell_type": "code",
   "execution_count": null,
   "id": "d99b92d2",
   "metadata": {},
   "outputs": [],
   "source": []
  },
  {
   "cell_type": "code",
   "execution_count": 68,
   "id": "4619a2d6",
   "metadata": {},
   "outputs": [],
   "source": [
    "df2=df2.withColumn('class_footer', F.col('element.classes').getItem(0)).withColumn('class_footer', F.col(\"class_footer.class_count\"))\n",
    "df2=df2.withColumn('class_header', F.col('element.classes').getItem(1)).withColumn('class_header', F.col(\"class_header.class_count\"))\n",
    "df2=df2.withColumn('class_sidebar', F.col('element.classes').getItem(2)).withColumn('class_sidebar', F.col(\"class_sidebar.class_count\"))\n",
    "df2=df2.withColumn('class_response', F.col('element.classes').getItem(3)).withColumn('class_response', F.col(\"class_response.class_count\"))\n",
    "\n"
   ]
  },
  {
   "cell_type": "code",
   "execution_count": null,
   "id": "2028f410",
   "metadata": {},
   "outputs": [],
   "source": []
  },
  {
   "cell_type": "code",
   "execution_count": null,
   "id": "0775bf52",
   "metadata": {},
   "outputs": [],
   "source": []
  },
  {
   "cell_type": "code",
   "execution_count": 70,
   "id": "f7d223d5",
   "metadata": {},
   "outputs": [],
   "source": [
    "dff2 = df2.drop(\"element\",\"tags\",\"classes\")"
   ]
  },
  {
   "cell_type": "code",
   "execution_count": 75,
   "id": "3b242dd0",
   "metadata": {},
   "outputs": [
    {
     "name": "stderr",
     "output_type": "stream",
     "text": [
      "                                                                                \r"
     ]
    }
   ],
   "source": [
    "dff2.write.parquet(\"/scratch/venia/web2wiki/data/test/sanitized_wiki.parquet\")"
   ]
  },
  {
   "cell_type": "code",
   "execution_count": null,
   "id": "6459b0e1",
   "metadata": {
    "scrolled": true
   },
   "outputs": [],
   "source": []
  },
  {
   "cell_type": "code",
   "execution_count": null,
   "id": "b4de3335",
   "metadata": {},
   "outputs": [],
   "source": []
  },
  {
   "cell_type": "code",
   "execution_count": null,
   "id": "6ec9ee7b",
   "metadata": {},
   "outputs": [],
   "source": []
  },
  {
   "cell_type": "code",
   "execution_count": null,
   "id": "0167b0d4",
   "metadata": {},
   "outputs": [],
   "source": []
  },
  {
   "cell_type": "code",
   "execution_count": 55,
   "id": "d5ca456c",
   "metadata": {
    "scrolled": false
   },
   "outputs": [],
   "source": [
    "# df2.limit(100000).dropDuplicates(subset = [\"url\"]).select(\"element.classes\").take(1000)"
   ]
  },
  {
   "cell_type": "code",
   "execution_count": null,
   "id": "09596812",
   "metadata": {},
   "outputs": [],
   "source": []
  },
  {
   "cell_type": "code",
   "execution_count": null,
   "id": "7208552c",
   "metadata": {},
   "outputs": [],
   "source": [
    "d"
   ]
  }
 ],
 "metadata": {
  "kernelspec": {
   "display_name": "Python 3 (ipykernel)",
   "language": "python",
   "name": "python3"
  },
  "language_info": {
   "codemirror_mode": {
    "name": "ipython",
    "version": 3
   },
   "file_extension": ".py",
   "mimetype": "text/x-python",
   "name": "python",
   "nbconvert_exporter": "python",
   "pygments_lexer": "ipython3",
   "version": "3.9.7"
  }
 },
 "nbformat": 4,
 "nbformat_minor": 5
}
