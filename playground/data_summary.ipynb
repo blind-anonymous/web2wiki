{
 "cells": [
  {
   "cell_type": "code",
   "execution_count": 1,
   "id": "3c77e2ad",
   "metadata": {
    "scrolled": true
   },
   "outputs": [
    {
     "name": "stderr",
     "output_type": "stream",
     "text": [
      "22/10/19 16:39:44 WARN Utils: Your hostname, iccluster039 resolves to a loopback address: 127.0.1.1; using 10.90.38.15 instead (on interface ens786f0)\n",
      "22/10/19 16:39:44 WARN Utils: Set SPARK_LOCAL_IP if you need to bind to another address\n",
      "WARNING: An illegal reflective access operation has occurred\n",
      "WARNING: Illegal reflective access by org.apache.spark.unsafe.Platform (file:/home/veselovs/spark-3.2.1-bin-hadoop2.7/jars/spark-unsafe_2.12-3.2.1.jar) to constructor java.nio.DirectByteBuffer(long,int)\n",
      "WARNING: Please consider reporting this to the maintainers of org.apache.spark.unsafe.Platform\n",
      "WARNING: Use --illegal-access=warn to enable warnings of further illegal reflective access operations\n",
      "WARNING: All illegal access operations will be denied in a future release\n",
      "Using Spark's default log4j profile: org/apache/spark/log4j-defaults.properties\n",
      "Setting default log level to \"WARN\".\n",
      "To adjust logging level use sc.setLogLevel(newLevel). For SparkR, use setLogLevel(newLevel).\n",
      "22/10/19 16:39:45 WARN NativeCodeLoader: Unable to load native-hadoop library for your platform... using builtin-java classes where applicable\n",
      "22/10/19 16:39:45 WARN SparkConf: Note that spark.local.dir will be overridden by the value set by the cluster manager (via SPARK_LOCAL_DIRS in mesos/standalone/kubernetes and LOCAL_DIRS in YARN).\n",
      "22/10/19 16:39:46 WARN Utils: Service 'SparkUI' could not bind on port 4040. Attempting port 4041.\n",
      "22/10/19 16:39:46 WARN Utils: Service 'SparkUI' could not bind on port 4041. Attempting port 4042.\n"
     ]
    }
   ],
   "source": [
    "import pandas as pd\n",
    "import matplotlib.pyplot as plt\n",
    "import numpy as np\n",
    "import seaborn as sns\n",
    "\n",
    "from collections import OrderedDict\n",
    "sns.set_style(\"whitegrid\", {'axes.grid' : False})\n",
    "\n",
    "import pyspark.sql.functions as F\n",
    "from pyspark.sql.types import *\n",
    "import pyspark\n",
    "from pyspark.sql import SparkSession\n",
    "from pyspark import SparkContext\n",
    "from pyspark.sql import Row\n",
    "import pyarrow.parquet as pq\n",
    "import pyarrow as pa\n",
    "import os\n",
    "\n",
    "\n",
    "os.environ['SPARK_HOME'] = \"/home/veselovs/spark-3.2.1-bin-hadoop2.7\"\n",
    "os.environ['JAVA_HOME'] = \"/home/veselovs/jdk-13.0.2\"\n",
    "spark = SparkSession.builder.getOrCreate()\n"
   ]
  },
  {
   "cell_type": "code",
   "execution_count": 16,
   "id": "0c00f07b",
   "metadata": {},
   "outputs": [],
   "source": [
    "full = spark.read.load(\"/scratch/venia/web2wiki/data/en_wikilinks_clean.parquet/\")"
   ]
  },
  {
   "cell_type": "code",
   "execution_count": 38,
   "id": "cf89d21e",
   "metadata": {},
   "outputs": [
    {
     "name": "stderr",
     "output_type": "stream",
     "text": [
      "                                                                                \r"
     ]
    }
   ],
   "source": [
    "full.groupBy(\"domain\", \"title\").count().write.parquet(\"/scratch/venia/web2wiki/data/en_wikilinks_domain_counts.parquet/\", mode = \"overwrite\")"
   ]
  },
  {
   "cell_type": "code",
   "execution_count": 42,
   "id": "af4924c7",
   "metadata": {
    "scrolled": false
   },
   "outputs": [],
   "source": [
    "df = spark.read.load(\"/scratch/venia/web2wiki/data/en_wikilinks_domain_counts.parquet/\")"
   ]
  },
  {
   "cell_type": "code",
   "execution_count": 43,
   "id": "cc9dc774",
   "metadata": {},
   "outputs": [],
   "source": [
    "df2 = spark.read.load(\"/scratch/venia/web2wiki/data/en_wikilinks_url_counts.parquet\")"
   ]
  },
  {
   "cell_type": "markdown",
   "id": "8fbef952",
   "metadata": {},
   "source": [
    "# How many URLS, average wikis / url, max wikis per url. "
   ]
  },
  {
   "cell_type": "code",
   "execution_count": 47,
   "id": "af967f30",
   "metadata": {},
   "outputs": [
    {
     "name": "stdout",
     "output_type": "stream",
     "text": [
      "How many shares [Row(sum(count)=48829702)]\n",
      "Most wikis in one page [Row(max(count)=1056787)]\n",
      "Mean wikis in one page [Row(avg(count)=3.099593406782444)]\n"
     ]
    },
    {
     "name": "stderr",
     "output_type": "stream",
     "text": [
      "[Stage 106:=====================================================> (49 + 1) / 50]\r"
     ]
    },
    {
     "name": "stdout",
     "output_type": "stream",
     "text": [
      "unique number domains [Row(count(domain)=940239)]\n"
     ]
    },
    {
     "name": "stderr",
     "output_type": "stream",
     "text": [
      "\r",
      "                                                                                \r"
     ]
    }
   ],
   "source": [
    "print(\"How many shares\", df.agg(F.sum(\"count\")).collect())\n",
    "print(\"Most wikis in one page\", df.agg(F.max(\"count\")).collect())\n",
    "print(\"Mean wikis in one page\", df.agg(F.mean(\"count\")).collect())\n",
    "print(\"unique number domains\", df.agg(F.countDistinct(\"domain\")).collect())"
   ]
  },
  {
   "cell_type": "code",
   "execution_count": 48,
   "id": "b553d22f",
   "metadata": {},
   "outputs": [
    {
     "name": "stdout",
     "output_type": "stream",
     "text": [
      "How many shares [Row(sum(count)=48829702)]\n",
      "Most wikis in one page [Row(max(count)=4368)]\n",
      "Mean wikis in one page [Row(avg(count)=1.2206566768027869)]\n"
     ]
    },
    {
     "name": "stderr",
     "output_type": "stream",
     "text": [
      "[Stage 123:====================================================>  (48 + 2) / 50]\r"
     ]
    },
    {
     "name": "stdout",
     "output_type": "stream",
     "text": [
      "unique number domains [Row(count(url)=14462267)]\n"
     ]
    },
    {
     "name": "stderr",
     "output_type": "stream",
     "text": [
      "\r",
      "                                                                                \r"
     ]
    }
   ],
   "source": [
    "print(\"How many shares\", df2.agg(F.sum(\"count\")).collect())\n",
    "print(\"Most wikis in one page\", df2.agg(F.max(\"count\")).collect())\n",
    "print(\"Mean wikis in one page\", df2.agg(F.mean(\"count\")).collect())\n",
    "print(\"unique number domains\", df2.agg(F.countDistinct(\"url\")).collect())"
   ]
  },
  {
   "cell_type": "code",
   "execution_count": 57,
   "id": "c12ddec1",
   "metadata": {},
   "outputs": [
    {
     "name": "stderr",
     "output_type": "stream",
     "text": [
      "                                                                                \r"
     ]
    },
    {
     "data": {
      "text/plain": [
       "[Row(title='', sum(count)=1125788),\n",
       " Row(title='United States', sum(count)=154211),\n",
       " Row(title='HTTP cookie', sum(count)=142842),\n",
       " Row(title='Wikipedia:Text of Creative Commons Attribution-ShareAlike 3.0 Unported License', sum(count)=107867),\n",
       " Row(title='Main Page', sum(count)=92899),\n",
       " Row(title='Copyright law of the United States', sum(count)=63225),\n",
       " Row(title='Philippine Amusement and Gaming Corporation', sum(count)=63166),\n",
       " Row(title='California', sum(count)=62366),\n",
       " Row(title='Wikipedia:Contact us', sum(count)=59351),\n",
       " Row(title='Digital object identifier', sum(count)=59153)]"
      ]
     },
     "execution_count": 57,
     "metadata": {},
     "output_type": "execute_result"
    }
   ],
   "source": [
    "df.groupBy(\"title\").agg(F.sum(F.col(\"count\"))).orderBy(\"sum(count)\",ascending=False).take(10)"
   ]
  },
  {
   "cell_type": "code",
   "execution_count": null,
   "id": "281742e5",
   "metadata": {},
   "outputs": [],
   "source": []
  }
 ],
 "metadata": {
  "kernelspec": {
   "display_name": "Python 3 (ipykernel)",
   "language": "python",
   "name": "python3"
  },
  "language_info": {
   "codemirror_mode": {
    "name": "ipython",
    "version": 3
   },
   "file_extension": ".py",
   "mimetype": "text/x-python",
   "name": "python",
   "nbconvert_exporter": "python",
   "pygments_lexer": "ipython3",
   "version": "3.9.7"
  }
 },
 "nbformat": 4,
 "nbformat_minor": 5
}
