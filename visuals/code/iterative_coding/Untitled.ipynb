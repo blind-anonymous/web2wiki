{
 "cells": [
  {
   "cell_type": "code",
   "execution_count": 1,
   "id": "fb19b631",
   "metadata": {},
   "outputs": [],
   "source": [
    "import pandas as pd\n",
    "import numpy as np\n",
    "\n",
    "import matplotlib.pyplot as plt\n",
    "\n",
    "import warnings\n",
    "warnings.filterwarnings('ignore')\n",
    "\n",
    "import tldextract\n",
    "import urllib\n",
    "\n",
    "from bs4 import BeautifulSoup\n",
    "\n",
    "import sys\n",
    "sys.path.append(\"/scratch/venia/web2wiki/helpers\")\n"
   ]
  },
  {
   "cell_type": "code",
   "execution_count": 2,
   "id": "763528ee",
   "metadata": {},
   "outputs": [
    {
     "name": "stderr",
     "output_type": "stream",
     "text": [
      "22/09/06 13:40:29 WARN Utils: Your hostname, iccluster039 resolves to a loopback address: 127.0.1.1; using 10.90.38.15 instead (on interface ens786f0)\n",
      "22/09/06 13:40:29 WARN Utils: Set SPARK_LOCAL_IP if you need to bind to another address\n",
      "WARNING: An illegal reflective access operation has occurred\n",
      "WARNING: Illegal reflective access by org.apache.spark.unsafe.Platform (file:/home/veselovs/spark-3.2.1-bin-hadoop2.7/jars/spark-unsafe_2.12-3.2.1.jar) to constructor java.nio.DirectByteBuffer(long,int)\n",
      "WARNING: Please consider reporting this to the maintainers of org.apache.spark.unsafe.Platform\n",
      "WARNING: Use --illegal-access=warn to enable warnings of further illegal reflective access operations\n",
      "WARNING: All illegal access operations will be denied in a future release\n",
      "Using Spark's default log4j profile: org/apache/spark/log4j-defaults.properties\n",
      "Setting default log level to \"WARN\".\n",
      "To adjust logging level use sc.setLogLevel(newLevel). For SparkR, use setLogLevel(newLevel).\n",
      "22/09/06 13:40:30 WARN NativeCodeLoader: Unable to load native-hadoop library for your platform... using builtin-java classes where applicable\n",
      "22/09/06 13:40:30 WARN SparkConf: Note that spark.local.dir will be overridden by the value set by the cluster manager (via SPARK_LOCAL_DIRS in mesos/standalone/kubernetes and LOCAL_DIRS in YARN).\n",
      "22/09/06 13:40:30 WARN Utils: Service 'SparkUI' could not bind on port 4040. Attempting port 4041.\n",
      "22/09/06 13:40:31 WARN Utils: Service 'SparkUI' could not bind on port 4041. Attempting port 4042.\n",
      "22/09/06 13:40:31 WARN Utils: Service 'SparkUI' could not bind on port 4042. Attempting port 4043.\n",
      "22/09/06 13:40:31 WARN Utils: Service 'SparkUI' could not bind on port 4043. Attempting port 4044.\n"
     ]
    }
   ],
   "source": [
    "import pyspark.sql.functions as F\n",
    "from pyspark.sql.types import *\n",
    "import pyspark\n",
    "from pyspark.sql import SparkSession\n",
    "from pyspark import SparkContext\n",
    "from pyspark.sql import Row\n",
    "import pyarrow.parquet as pq\n",
    "import pyarrow as pa\n",
    "\n",
    "from bs4 import BeautifulSoup\n",
    "\n",
    "import os\n",
    "\n",
    "\n",
    "\n",
    "\n",
    "os.environ['SPARK_HOME'] = \"/home/veselovs/spark-3.2.1-bin-hadoop2.7\"\n",
    "os.environ['JAVA_HOME'] = \"/home/veselovs/jdk-13.0.2\"\n",
    "\n",
    "config = pyspark.SparkConf().setAll([('spark.executor.memory', '50g'),\n",
    "                                 ('spark.executor.cores', '40'),\n",
    "                                 ('spark.driver.memory','50g'),\n",
    "                                 ('spark.driver.maxResultSize','0'),\n",
    "                                 ('spark.python.worker.memory', '5g'),\n",
    "                                 ('spark.reducer.maxSizeInFlight','5g'),\n",
    "                                 ('spark.rpc.message.maxSize', '1000'),\n",
    "                                 ('spark.sql.autoBroadcastJoinThreshold','-1'),\n",
    "                                 ('spark.local.dir', '/tmp/')])\n",
    "sc = pyspark.SparkContext(conf=config)\n",
    "spark = SparkSession.builder.appName('venia2').config(conf=config).getOrCreate()\n",
    "\n"
   ]
  },
  {
   "cell_type": "code",
   "execution_count": 8,
   "id": "3312238d",
   "metadata": {},
   "outputs": [],
   "source": [
    "data = spark.read.load(\"/scratch/venia/web2wiki/data/web_content/iterative_coding_sample/wiki_content.parquet\")\n"
   ]
  },
  {
   "cell_type": "code",
   "execution_count": 10,
   "id": "e783af9a",
   "metadata": {},
   "outputs": [
    {
     "name": "stderr",
     "output_type": "stream",
     "text": [
      "                                                                                \r"
     ]
    }
   ],
   "source": [
    "d = data.limit(1000).toPandas()"
   ]
  },
  {
   "cell_type": "code",
   "execution_count": 19,
   "id": "3b66c3cd",
   "metadata": {},
   "outputs": [
    {
     "data": {
      "text/plain": [
       "url                                    http://blog.eciton.net\n",
       "a1                                                          p\n",
       "a2                                                        div\n",
       "wiki_url      http://en.wikipedia.org/wiki/Master_boot_record\n",
       "text1       <p>Apart from this feeling a bit ... cargo-cul...\n",
       "text2       <div>\\n<h1><a href=\"http://blog.eciton.net/uef...\n",
       "Name: 0, dtype: object"
      ]
     },
     "execution_count": 19,
     "metadata": {},
     "output_type": "execute_result"
    }
   ],
   "source": [
    "d.iloc[0]"
   ]
  },
  {
   "cell_type": "code",
   "execution_count": 13,
   "id": "a728d32f",
   "metadata": {},
   "outputs": [],
   "source": [
    "import justext\n"
   ]
  },
  {
   "cell_type": "code",
   "execution_count": 22,
   "id": "d02ccc4d",
   "metadata": {},
   "outputs": [],
   "source": [
    "paragraphs = justext.justext(d.text2.iloc[50], justext.get_stoplist(\"English\"))\n"
   ]
  },
  {
   "cell_type": "code",
   "execution_count": 23,
   "id": "cb8aff7a",
   "metadata": {},
   "outputs": [
    {
     "data": {
      "text/plain": [
       "'<ul>\\n<li><a href=\"http://en.wikipedia.org/wiki/2012\" rel=\"nofollow\" title=\"2012\">2012 (Wikipedia EN)</a></li>\\n<li><a href=\"http://bg.wikipedia.org/wiki/2012\" rel=\"nofollow\" title=\"2012\">2012 (Wikipedia BG)</a></li>\\n</ul>'"
      ]
     },
     "execution_count": 23,
     "metadata": {},
     "output_type": "execute_result"
    }
   ],
   "source": [
    "d.text2.iloc[50]"
   ]
  },
  {
   "cell_type": "code",
   "execution_count": 24,
   "id": "e648638a",
   "metadata": {},
   "outputs": [
    {
     "name": "stdout",
     "output_type": "stream",
     "text": [
      "2012 (Wikipedia EN)\n",
      "2012 (Wikipedia BG)\n"
     ]
    }
   ],
   "source": [
    "for paragraph in paragraphs:\n",
    "    if paragraph.is_boilerplate:\n",
    "        print(paragraph.text)"
   ]
  },
  {
   "cell_type": "code",
   "execution_count": 3,
   "id": "50998c1f",
   "metadata": {},
   "outputs": [],
   "source": [
    "import glob\n",
    "files = np.random.choice(glob.glob(\"/dlabdata1/dlab_common_datasets/web2wiki/FullHTMLFeb2021/*\"), 100)"
   ]
  },
  {
   "cell_type": "code",
   "execution_count": 6,
   "id": "0291dd7c",
   "metadata": {},
   "outputs": [
    {
     "data": {
      "text/plain": [
       "['/dlabdata1/dlab_common_datasets/web2wiki/FullHTMLFeb2021/CC-MAIN-20210307231028-20210308021028-00392.warc.gz.parquet',\n",
       " '/dlabdata1/dlab_common_datasets/web2wiki/FullHTMLFeb2021/CC-MAIN-20210308021603-20210308051603-00421.warc.gz.parquet',\n",
       " '/dlabdata1/dlab_common_datasets/web2wiki/FullHTMLFeb2021/CC-MAIN-20210305060756-20210305090756-00029.warc.gz.parquet',\n",
       " '/dlabdata1/dlab_common_datasets/web2wiki/FullHTMLFeb2021/CC-MAIN-20210302095427-20210302125427-00138.warc.gz.parquet',\n",
       " '/dlabdata1/dlab_common_datasets/web2wiki/FullHTMLFeb2021/CC-MAIN-20210307170119-20210307200119-00477.warc.gz.parquet',\n",
       " '/dlabdata1/dlab_common_datasets/web2wiki/FullHTMLFeb2021/CC-MAIN-20210228205741-20210228235741-00467.warc.gz.parquet',\n",
       " '/dlabdata1/dlab_common_datasets/web2wiki/FullHTMLFeb2021/CC-MAIN-20210225095141-20210225125141-00585.warc.gz.parquet',\n",
       " '/dlabdata1/dlab_common_datasets/web2wiki/FullHTMLFeb2021/CC-MAIN-20210302003534-20210302033534-00565.warc.gz.parquet',\n",
       " '/dlabdata1/dlab_common_datasets/web2wiki/FullHTMLFeb2021/CC-MAIN-20210304051942-20210304081942-00631.warc.gz.parquet',\n",
       " '/dlabdata1/dlab_common_datasets/web2wiki/FullHTMLFeb2021/CC-MAIN-20210308021603-20210308051603-00436.warc.gz.parquet',\n",
       " '/dlabdata1/dlab_common_datasets/web2wiki/FullHTMLFeb2021/CC-MAIN-20210226030728-20210226060728-00538.warc.gz.parquet',\n",
       " '/dlabdata1/dlab_common_datasets/web2wiki/FullHTMLFeb2021/CC-MAIN-20210224165708-20210224195708-00400.warc.gz.parquet',\n",
       " '/dlabdata1/dlab_common_datasets/web2wiki/FullHTMLFeb2021/CC-MAIN-20210224194337-20210224224337-00127.warc.gz.parquet',\n",
       " '/dlabdata1/dlab_common_datasets/web2wiki/FullHTMLFeb2021/CC-MAIN-20210227024823-20210227054823-00040.warc.gz.parquet',\n",
       " '/dlabdata1/dlab_common_datasets/web2wiki/FullHTMLFeb2021/CC-MAIN-20210303104028-20210303134028-00161.warc.gz.parquet',\n",
       " '/dlabdata1/dlab_common_datasets/web2wiki/FullHTMLFeb2021/CC-MAIN-20210228145113-20210228175113-00385.warc.gz.parquet',\n",
       " '/dlabdata1/dlab_common_datasets/web2wiki/FullHTMLFeb2021/CC-MAIN-20210227024823-20210227054823-00123.warc.gz.parquet',\n",
       " '/dlabdata1/dlab_common_datasets/web2wiki/FullHTMLFeb2021/CC-MAIN-20210227144626-20210227174626-00099.warc.gz.parquet',\n",
       " '/dlabdata1/dlab_common_datasets/web2wiki/FullHTMLFeb2021/CC-MAIN-20210307044328-20210307074328-00084.warc.gz.parquet',\n",
       " '/dlabdata1/dlab_common_datasets/web2wiki/FullHTMLFeb2021/CC-MAIN-20210225211435-20210226001435-00181.warc.gz.parquet',\n",
       " '/dlabdata1/dlab_common_datasets/web2wiki/FullHTMLFeb2021/CC-MAIN-20210225012257-20210225042257-00456.warc.gz.parquet',\n",
       " '/dlabdata1/dlab_common_datasets/web2wiki/FullHTMLFeb2021/CC-MAIN-20210228205741-20210228235741-00302.warc.gz.parquet',\n",
       " '/dlabdata1/dlab_common_datasets/web2wiki/FullHTMLFeb2021/CC-MAIN-20210226085543-20210226115543-00223.warc.gz.parquet',\n",
       " '/dlabdata1/dlab_common_datasets/web2wiki/FullHTMLFeb2021/CC-MAIN-20210307231028-20210308021028-00142.warc.gz.parquet',\n",
       " '/dlabdata1/dlab_common_datasets/web2wiki/FullHTMLFeb2021/CC-MAIN-20210226145416-20210226175416-00211.warc.gz.parquet',\n",
       " '/dlabdata1/dlab_common_datasets/web2wiki/FullHTMLFeb2021/CC-MAIN-20210306070129-20210306100129-00032.warc.gz.parquet',\n",
       " '/dlabdata1/dlab_common_datasets/web2wiki/FullHTMLFeb2021/CC-MAIN-20210228115201-20210228145201-00049.warc.gz.parquet',\n",
       " '/dlabdata1/dlab_common_datasets/web2wiki/FullHTMLFeb2021/CC-MAIN-20210303042832-20210303072832-00270.warc.gz.parquet',\n",
       " '/dlabdata1/dlab_common_datasets/web2wiki/FullHTMLFeb2021/CC-MAIN-20210308174330-20210308204330-00409.warc.gz.parquet',\n",
       " '/dlabdata1/dlab_common_datasets/web2wiki/FullHTMLFeb2021/CC-MAIN-20210304143817-20210304173817-00517.warc.gz.parquet',\n",
       " '/dlabdata1/dlab_common_datasets/web2wiki/FullHTMLFeb2021/CC-MAIN-20210308052217-20210308082217-00083.warc.gz.parquet',\n",
       " '/dlabdata1/dlab_common_datasets/web2wiki/FullHTMLFeb2021/CC-MAIN-20210226030728-20210226060728-00117.warc.gz.parquet',\n",
       " '/dlabdata1/dlab_common_datasets/web2wiki/FullHTMLFeb2021/CC-MAIN-20210303073439-20210303103439-00330.warc.gz.parquet',\n",
       " '/dlabdata1/dlab_common_datasets/web2wiki/FullHTMLFeb2021/CC-MAIN-20210306162308-20210306192308-00086.warc.gz.parquet',\n",
       " '/dlabdata1/dlab_common_datasets/web2wiki/FullHTMLFeb2021/CC-MAIN-20210303134756-20210303164756-00000.warc.gz.parquet',\n",
       " '/dlabdata1/dlab_common_datasets/web2wiki/FullHTMLFeb2021/CC-MAIN-20210303165500-20210303195500-00025.warc.gz.parquet',\n",
       " '/dlabdata1/dlab_common_datasets/web2wiki/FullHTMLFeb2021/CC-MAIN-20210301212939-20210302002939-00280.warc.gz.parquet',\n",
       " '/dlabdata1/dlab_common_datasets/web2wiki/FullHTMLFeb2021/CC-MAIN-20210303134756-20210303164756-00441.warc.gz.parquet',\n",
       " '/dlabdata1/dlab_common_datasets/web2wiki/FullHTMLFeb2021/CC-MAIN-20210307170119-20210307200119-00455.warc.gz.parquet',\n",
       " '/dlabdata1/dlab_common_datasets/web2wiki/FullHTMLFeb2021/CC-MAIN-20210306100836-20210306130836-00179.warc.gz.parquet',\n",
       " '/dlabdata1/dlab_common_datasets/web2wiki/FullHTMLFeb2021/CC-MAIN-20210308052217-20210308082217-00284.warc.gz.parquet',\n",
       " '/dlabdata1/dlab_common_datasets/web2wiki/FullHTMLFeb2021/CC-MAIN-20210306100836-20210306130836-00365.warc.gz.parquet',\n",
       " '/dlabdata1/dlab_common_datasets/web2wiki/FullHTMLFeb2021/CC-MAIN-20210308235748-20210309025748-00444.warc.gz.parquet',\n",
       " '/dlabdata1/dlab_common_datasets/web2wiki/FullHTMLFeb2021/CC-MAIN-20210228175250-20210228205250-00429.warc.gz.parquet',\n",
       " '/dlabdata1/dlab_common_datasets/web2wiki/FullHTMLFeb2021/CC-MAIN-20210305152710-20210305182710-00236.warc.gz.parquet',\n",
       " '/dlabdata1/dlab_common_datasets/web2wiki/FullHTMLFeb2021/CC-MAIN-20210305152710-20210305182710-00083.warc.gz.parquet',\n",
       " '/dlabdata1/dlab_common_datasets/web2wiki/FullHTMLFeb2021/CC-MAIN-20210307074942-20210307104942-00330.warc.gz.parquet',\n",
       " '/dlabdata1/dlab_common_datasets/web2wiki/FullHTMLFeb2021/CC-MAIN-20210227234501-20210228024501-00145.warc.gz.parquet',\n",
       " '/dlabdata1/dlab_common_datasets/web2wiki/FullHTMLFeb2021/CC-MAIN-20210304143817-20210304173817-00249.warc.gz.parquet',\n",
       " '/dlabdata1/dlab_common_datasets/web2wiki/FullHTMLFeb2021/CC-MAIN-20210303042832-20210303072832-00023.warc.gz.parquet',\n",
       " '/dlabdata1/dlab_common_datasets/web2wiki/FullHTMLFeb2021/CC-MAIN-20210225095141-20210225125141-00124.warc.gz.parquet',\n",
       " '/dlabdata1/dlab_common_datasets/web2wiki/FullHTMLFeb2021/CC-MAIN-20210308052217-20210308082217-00284.warc.gz.parquet',\n",
       " '/dlabdata1/dlab_common_datasets/web2wiki/FullHTMLFeb2021/CC-MAIN-20210304174506-20210304204506-00463.warc.gz.parquet',\n",
       " '/dlabdata1/dlab_common_datasets/web2wiki/FullHTMLFeb2021/CC-MAIN-20210304021339-20210304051339-00177.warc.gz.parquet',\n",
       " '/dlabdata1/dlab_common_datasets/web2wiki/FullHTMLFeb2021/CC-MAIN-20210303165500-20210303195500-00026.warc.gz.parquet',\n",
       " '/dlabdata1/dlab_common_datasets/web2wiki/FullHTMLFeb2021/CC-MAIN-20210225124124-20210225154124-00134.warc.gz.parquet',\n",
       " '/dlabdata1/dlab_common_datasets/web2wiki/FullHTMLFeb2021/CC-MAIN-20210304021339-20210304051339-00233.warc.gz.parquet',\n",
       " '/dlabdata1/dlab_common_datasets/web2wiki/FullHTMLFeb2021/CC-MAIN-20210304051942-20210304081942-00333.warc.gz.parquet',\n",
       " '/dlabdata1/dlab_common_datasets/web2wiki/FullHTMLFeb2021/CC-MAIN-20210228235852-20210301025852-00512.warc.gz.parquet',\n",
       " '/dlabdata1/dlab_common_datasets/web2wiki/FullHTMLFeb2021/CC-MAIN-20210308205020-20210308235020-00380.warc.gz.parquet',\n",
       " '/dlabdata1/dlab_common_datasets/web2wiki/FullHTMLFeb2021/CC-MAIN-20210227024823-20210227054823-00415.warc.gz.parquet',\n",
       " '/dlabdata1/dlab_common_datasets/web2wiki/FullHTMLFeb2021/CC-MAIN-20210305030131-20210305060131-00274.warc.gz.parquet',\n",
       " '/dlabdata1/dlab_common_datasets/web2wiki/FullHTMLFeb2021/CC-MAIN-20210224165708-20210224195708-00195.warc.gz.parquet',\n",
       " '/dlabdata1/dlab_common_datasets/web2wiki/FullHTMLFeb2021/CC-MAIN-20210227054852-20210227084852-00614.warc.gz.parquet',\n",
       " '/dlabdata1/dlab_common_datasets/web2wiki/FullHTMLFeb2021/CC-MAIN-20210306131539-20210306161539-00081.warc.gz.parquet',\n",
       " '/dlabdata1/dlab_common_datasets/web2wiki/FullHTMLFeb2021/CC-MAIN-20210304143817-20210304173817-00561.warc.gz.parquet',\n",
       " '/dlabdata1/dlab_common_datasets/web2wiki/FullHTMLFeb2021/CC-MAIN-20210307231028-20210308021028-00213.warc.gz.parquet',\n",
       " '/dlabdata1/dlab_common_datasets/web2wiki/FullHTMLFeb2021/CC-MAIN-20210301060310-20210301090310-00550.warc.gz.parquet',\n",
       " '/dlabdata1/dlab_common_datasets/web2wiki/FullHTMLFeb2021/CC-MAIN-20210228175250-20210228205250-00377.warc.gz.parquet',\n",
       " '/dlabdata1/dlab_common_datasets/web2wiki/FullHTMLFeb2021/CC-MAIN-20210303165500-20210303195500-00392.warc.gz.parquet',\n",
       " '/dlabdata1/dlab_common_datasets/web2wiki/FullHTMLFeb2021/CC-MAIN-20210228145113-20210228175113-00444.warc.gz.parquet',\n",
       " '/dlabdata1/dlab_common_datasets/web2wiki/FullHTMLFeb2021/CC-MAIN-20210302003534-20210302033534-00007.warc.gz.parquet',\n",
       " '/dlabdata1/dlab_common_datasets/web2wiki/FullHTMLFeb2021/CC-MAIN-20210304051942-20210304081942-00101.warc.gz.parquet',\n",
       " '/dlabdata1/dlab_common_datasets/web2wiki/FullHTMLFeb2021/CC-MAIN-20210306162308-20210306192308-00263.warc.gz.parquet',\n",
       " '/dlabdata1/dlab_common_datasets/web2wiki/FullHTMLFeb2021/CC-MAIN-20210308235748-20210309025748-00328.warc.gz.parquet',\n",
       " '/dlabdata1/dlab_common_datasets/web2wiki/FullHTMLFeb2021/CC-MAIN-20210226115116-20210226145116-00318.warc.gz.parquet',\n",
       " '/dlabdata1/dlab_common_datasets/web2wiki/FullHTMLFeb2021/CC-MAIN-20210308021603-20210308051603-00175.warc.gz.parquet',\n",
       " '/dlabdata1/dlab_common_datasets/web2wiki/FullHTMLFeb2021/CC-MAIN-20210228205741-20210228235741-00020.warc.gz.parquet',\n",
       " '/dlabdata1/dlab_common_datasets/web2wiki/FullHTMLFeb2021/CC-MAIN-20210309092230-20210309122230-00516.warc.gz.parquet',\n",
       " '/dlabdata1/dlab_common_datasets/web2wiki/FullHTMLFeb2021/CC-MAIN-20210228145113-20210228175113-00456.warc.gz.parquet',\n",
       " '/dlabdata1/dlab_common_datasets/web2wiki/FullHTMLFeb2021/CC-MAIN-20210227144626-20210227174626-00066.warc.gz.parquet',\n",
       " '/dlabdata1/dlab_common_datasets/web2wiki/FullHTMLFeb2021/CC-MAIN-20210226175238-20210226205238-00517.warc.gz.parquet',\n",
       " '/dlabdata1/dlab_common_datasets/web2wiki/FullHTMLFeb2021/CC-MAIN-20210227204637-20210227234637-00026.warc.gz.parquet',\n",
       " '/dlabdata1/dlab_common_datasets/web2wiki/FullHTMLFeb2021/CC-MAIN-20210306070129-20210306100129-00089.warc.gz.parquet',\n",
       " '/dlabdata1/dlab_common_datasets/web2wiki/FullHTMLFeb2021/CC-MAIN-20210303012222-20210303042222-00492.warc.gz.parquet',\n",
       " '/dlabdata1/dlab_common_datasets/web2wiki/FullHTMLFeb2021/CC-MAIN-20210305152710-20210305182710-00322.warc.gz.parquet',\n",
       " '/dlabdata1/dlab_common_datasets/web2wiki/FullHTMLFeb2021/CC-MAIN-20210306070129-20210306100129-00079.warc.gz.parquet',\n",
       " '/dlabdata1/dlab_common_datasets/web2wiki/FullHTMLFeb2021/CC-MAIN-20210302003534-20210302033534-00099.warc.gz.parquet',\n",
       " '/dlabdata1/dlab_common_datasets/web2wiki/FullHTMLFeb2021/CC-MAIN-20210308112849-20210308142849-00107.warc.gz.parquet',\n",
       " '/dlabdata1/dlab_common_datasets/web2wiki/FullHTMLFeb2021/CC-MAIN-20210226001221-20210226031221-00492.warc.gz.parquet',\n",
       " '/dlabdata1/dlab_common_datasets/web2wiki/FullHTMLFeb2021/CC-MAIN-20210302095427-20210302125427-00106.warc.gz.parquet',\n",
       " '/dlabdata1/dlab_common_datasets/web2wiki/FullHTMLFeb2021/CC-MAIN-20210226030728-20210226060728-00232.warc.gz.parquet',\n",
       " '/dlabdata1/dlab_common_datasets/web2wiki/FullHTMLFeb2021/CC-MAIN-20210303230849-20210304020849-00012.warc.gz.parquet',\n",
       " '/dlabdata1/dlab_common_datasets/web2wiki/FullHTMLFeb2021/CC-MAIN-20210308021603-20210308051603-00172.warc.gz.parquet',\n",
       " '/dlabdata1/dlab_common_datasets/web2wiki/FullHTMLFeb2021/CC-MAIN-20210226060147-20210226090147-00180.warc.gz.parquet',\n",
       " '/dlabdata1/dlab_common_datasets/web2wiki/FullHTMLFeb2021/CC-MAIN-20210308082315-20210308112315-00124.warc.gz.parquet',\n",
       " '/dlabdata1/dlab_common_datasets/web2wiki/FullHTMLFeb2021/CC-MAIN-20210225124124-20210225154124-00529.warc.gz.parquet',\n",
       " '/dlabdata1/dlab_common_datasets/web2wiki/FullHTMLFeb2021/CC-MAIN-20210308235748-20210309025748-00510.warc.gz.parquet',\n",
       " '/dlabdata1/dlab_common_datasets/web2wiki/FullHTMLFeb2021/CC-MAIN-20210301121225-20210301151225-00127.warc.gz.parquet',\n",
       " '/dlabdata1/dlab_common_datasets/web2wiki/FullHTMLFeb2021/CC-MAIN-20210228115201-20210228145201-00317.warc.gz.parquet']"
      ]
     },
     "execution_count": 6,
     "metadata": {},
     "output_type": "execute_result"
    }
   ],
   "source": [
    "list(files)"
   ]
  },
  {
   "cell_type": "code",
   "execution_count": 7,
   "id": "d81808b6",
   "metadata": {},
   "outputs": [
    {
     "name": "stderr",
     "output_type": "stream",
     "text": [
      "                                                                                \r"
     ]
    }
   ],
   "source": [
    "df = spark.read.load(list(files))"
   ]
  },
  {
   "cell_type": "code",
   "execution_count": null,
   "id": "17b2fafe",
   "metadata": {},
   "outputs": [],
   "source": [
    "df.count()"
   ]
  },
  {
   "cell_type": "code",
   "execution_count": null,
   "id": "27218db5",
   "metadata": {},
   "outputs": [],
   "source": []
  }
 ],
 "metadata": {
  "kernelspec": {
   "display_name": "Python 3 (ipykernel)",
   "language": "python",
   "name": "python3"
  },
  "language_info": {
   "codemirror_mode": {
    "name": "ipython",
    "version": 3
   },
   "file_extension": ".py",
   "mimetype": "text/x-python",
   "name": "python",
   "nbconvert_exporter": "python",
   "pygments_lexer": "ipython3",
   "version": "3.9.7"
  }
 },
 "nbformat": 4,
 "nbformat_minor": 5
}
