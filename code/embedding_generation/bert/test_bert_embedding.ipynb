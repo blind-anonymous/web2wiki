{
 "cells": [
  {
   "cell_type": "code",
   "execution_count": 106,
   "id": "f4857dc0",
   "metadata": {},
   "outputs": [],
   "source": [
    "import pandas as pd\n",
    "\n",
    "import matplotlib.pyplot as plt\n",
    "\n",
    "import warnings\n",
    "warnings.filterwarnings('ignore')"
   ]
  },
  {
   "cell_type": "code",
   "execution_count": 2,
   "id": "90e23bd7",
   "metadata": {},
   "outputs": [
    {
     "name": "stderr",
     "output_type": "stream",
     "text": [
      "2022-06-23 01:48:00.207817: W tensorflow/stream_executor/platform/default/dso_loader.cc:64] Could not load dynamic library 'libcudart.so.11.0'; dlerror: libcudart.so.11.0: cannot open shared object file: No such file or directory\n",
      "2022-06-23 01:48:00.207852: I tensorflow/stream_executor/cuda/cudart_stub.cc:29] Ignore above cudart dlerror if you do not have a GPU set up on your machine.\n"
     ]
    }
   ],
   "source": [
    "\n",
    "from sentence_transformers import SentenceTransformer\n",
    "\n",
    "model = SentenceTransformer('xlm-r-distilroberta-base-paraphrase-v1')"
   ]
  },
  {
   "cell_type": "code",
   "execution_count": 3,
   "id": "99a45e8a",
   "metadata": {
    "collapsed": true
   },
   "outputs": [
    {
     "name": "stderr",
     "output_type": "stream",
     "text": [
      "22/06/23 01:48:24 WARN Utils: Your hostname, iccluster039 resolves to a loopback address: 127.0.1.1; using 10.90.38.15 instead (on interface ens786f0)\n",
      "22/06/23 01:48:24 WARN Utils: Set SPARK_LOCAL_IP if you need to bind to another address\n",
      "WARNING: An illegal reflective access operation has occurred\n",
      "WARNING: Illegal reflective access by org.apache.spark.unsafe.Platform (file:/home/veselovs/spark-3.2.1-bin-hadoop2.7/jars/spark-unsafe_2.12-3.2.1.jar) to constructor java.nio.DirectByteBuffer(long,int)\n",
      "WARNING: Please consider reporting this to the maintainers of org.apache.spark.unsafe.Platform\n",
      "WARNING: Use --illegal-access=warn to enable warnings of further illegal reflective access operations\n",
      "WARNING: All illegal access operations will be denied in a future release\n",
      "Using Spark's default log4j profile: org/apache/spark/log4j-defaults.properties\n",
      "Setting default log level to \"WARN\".\n",
      "To adjust logging level use sc.setLogLevel(newLevel). For SparkR, use setLogLevel(newLevel).\n",
      "22/06/23 01:48:24 WARN NativeCodeLoader: Unable to load native-hadoop library for your platform... using builtin-java classes where applicable\n",
      "22/06/23 01:48:25 WARN Utils: Service 'SparkUI' could not bind on port 4040. Attempting port 4041.\n"
     ]
    }
   ],
   "source": [
    "import enum\n",
    "import pandas as pd \n",
    "import os\n",
    "\n",
    "import pyspark.sql.functions as F\n",
    "from pyspark.sql.types import *\n",
    "import pyspark\n",
    "from pyspark.sql import SparkSession\n",
    "from pyspark import SparkContext\n",
    "from pyspark.sql import Row\n",
    "import pyarrow.parquet as pq\n",
    "import pyarrow as pa\n",
    "import glob\n",
    "\n",
    "import sys\n",
    "import os\n",
    "sys.path.append(\"/scratch/venia/web2wiki/\")\n",
    "sys.setrecursionlimit(10000)\n",
    "\n",
    "import re\n",
    "import time\n",
    "from bs4 import BeautifulSoup\n",
    "\n",
    "from settings import WIKI_PAGES_DIR\n",
    "\n",
    "os.environ['SPARK_HOME'] = \"/home/veselovs/spark-3.2.1-bin-hadoop2.7\"\n",
    "os.environ['JAVA_HOME'] = \"/home/veselovs/jdk-13.0.2\"\n",
    "spark = SparkSession.builder.getOrCreate()\n",
    "\n",
    "\n"
   ]
  },
  {
   "cell_type": "code",
   "execution_count": 10,
   "id": "3cc915fb",
   "metadata": {},
   "outputs": [],
   "source": [
    "files = glob.glob(WIKI_PAGES_DIR+\"/*\")[0:400]\n",
    "\n",
    "\n",
    "regex_search = r\"(en.wikipedia\\.org[\\s\\/a-zA-ZäöüÄÖÜßþóúí\\_\\?(\\),\\,\\-\\#\\&\\$\\@\\!0-9\\.\\%\\–\\'\\:\\!]+)\"\n",
    "\n",
    "@F.udf\n",
    "def extract_regex(x):\n",
    "    links = re.findall(regex_search, x)\n",
    "    return links\n",
    "\n",
    "def extract_soup(x: str, only_para = False):\n",
    "    soup = BeautifulSoup(x,features=\"lxml\")\n",
    "    text = soup.get_text()\n",
    "    \n",
    "    return text\n",
    "\n",
    "\n",
    "extract_soup_udf = F.udf(extract_soup)"
   ]
  },
  {
   "cell_type": "code",
   "execution_count": 11,
   "id": "1250bb89",
   "metadata": {},
   "outputs": [
    {
     "name": "stderr",
     "output_type": "stream",
     "text": [
      "\r",
      "[Stage 5:=============================================>        (337 + 48) / 400]\r",
      "\r",
      "                                                                                \r"
     ]
    }
   ],
   "source": [
    "df = spark.read.load(files)\n",
    "\n",
    "# we will sample 10% of the entries\n",
    "sampled = df.sample(0.1)\n",
    "text = sampled.withColumn(\"text\",extract_soup_udf(F.col(\"content\")))\n",
    "text = text.select(\"url\",\"text\").toPandas()\n",
    "\n",
    "# we saved the file."
   ]
  },
  {
   "cell_type": "markdown",
   "id": "5de4c7be",
   "metadata": {},
   "source": [
    "Define the embedding and save it "
   ]
  },
  {
   "cell_type": "code",
   "execution_count": 21,
   "id": "96d89145",
   "metadata": {},
   "outputs": [],
   "source": [
    "txt= pd.read_parquet(\"/scratch/venia/web2wiki/data/url_text.parquet\",index=False)\n",
    "sentences = txt[\"text\"].values\n",
    "\n",
    "embeddings = model.encode(sentences, device = \"cuda:1\")"
   ]
  },
  {
   "cell_type": "code",
   "execution_count": 25,
   "id": "ea4d7c9e",
   "metadata": {},
   "outputs": [],
   "source": [
    "txt[\"url\"].to_csv(\"/home/veselovs/html/urls.tsv\", sep = \"\\t\", index=False, header = None)\n",
    "pd.DataFrame(embeddings).to_csv(\"/home/veselovs/html/vecs.tsv\",sep=\"\\t\", index=False, header = None)"
   ]
  },
  {
   "cell_type": "code",
   "execution_count": 29,
   "id": "80558386",
   "metadata": {},
   "outputs": [],
   "source": [
    "embedding = pd.DataFrame(embeddings)"
   ]
  },
  {
   "cell_type": "code",
   "execution_count": 82,
   "id": "1434c3e3",
   "metadata": {},
   "outputs": [],
   "source": [
    "embedding[\"url\"] = txt[\"url\"]"
   ]
  },
  {
   "cell_type": "markdown",
   "id": "007ff294",
   "metadata": {},
   "source": [
    "## Cluster the embedding and assign names\n",
    "- Run KMeans on the embeddings\n",
    "- Determine name holistically based on domain name\n"
   ]
  },
  {
   "cell_type": "markdown",
   "id": "32276d40",
   "metadata": {},
   "source": [
    "1. Cluster the embedding"
   ]
  },
  {
   "cell_type": "code",
   "execution_count": 31,
   "id": "4dfd16c1",
   "metadata": {},
   "outputs": [],
   "source": [
    "dims = list(range(768))"
   ]
  },
  {
   "cell_type": "code",
   "execution_count": 129,
   "id": "f67a6a52",
   "metadata": {},
   "outputs": [],
   "source": [
    "from sklearn.cluster import KMeans\n",
    "from sklearn.metrics.pairwise import cosine_similarity\n",
    "\n",
    "def run_kmeans(input_col, n_clusters = 30):\n",
    "    km = KMeans(n_clusters)\n",
    "    scores = km.fit_predict(input_col)\n",
    "    return scores\n",
    "\n",
    "def find_centroid(df, cluster):\n",
    "    temp = df[df[\"cluster\"] == cluster]\n",
    "    urls = temp[\"url\"]\n",
    "    temp = temp[dims].values\n",
    "    centroid = temp.mean(0).reshape(1,-1)\n",
    "    cosine_sim = cosine_similarity(temp,centroid).reshape(-1)\n",
    "    return cosine_sim, urls\n",
    "\n",
    "def centroid_sim_dataframes(cosine_sim):\n",
    "    df = pd.DataFrame(cosine_sim).T.rename({0: \"centroid_sim\",1: \"url\"},axis=1)\n",
    "    df = df[[\"url\",\"centroid_sim\"]]\n",
    "    df = df.sort_values(by = \"centroid_sim\",ascending=False)\n",
    "    return df\n"
   ]
  },
  {
   "cell_type": "code",
   "execution_count": null,
   "id": "824928f3",
   "metadata": {
    "scrolled": true
   },
   "outputs": [],
   "source": [
    "clusters = run_kmeans(embedding[dims])\n",
    "embedding[\"cluster\"] = clusters"
   ]
  },
  {
   "cell_type": "code",
   "execution_count": 140,
   "id": "2235fac5",
   "metadata": {},
   "outputs": [],
   "source": [
    "embedding.to_csv(\"/scratch/venia/web2wiki/data/url_embedding.csv\", index=False)"
   ]
  },
  {
   "cell_type": "markdown",
   "id": "f195e98d",
   "metadata": {},
   "source": [
    "2. Name the embedding"
   ]
  },
  {
   "cell_type": "code",
   "execution_count": 135,
   "id": "2a63e84d",
   "metadata": {},
   "outputs": [],
   "source": [
    "cosine_sims = {}\n",
    "for cluster in range(30):\n",
    "    cosine_sims[cluster] = centroid_sim_dataframes(find_centroid(embedding, cluster))"
   ]
  },
  {
   "cell_type": "code",
   "execution_count": 141,
   "id": "b03680b0",
   "metadata": {},
   "outputs": [],
   "source": [
    "for cluster in range(30):\n",
    "    cosine_sims[cluster].to_csv(f\"/scratch/venia/web2wiki/embedding_generation/bert/data/{cluster}_centroid_sim.csv\",index=False)"
   ]
  },
  {
   "cell_type": "code",
   "execution_count": 158,
   "id": "c5c2ac6a",
   "metadata": {},
   "outputs": [
    {
     "name": "stdout",
     "output_type": "stream",
     "text": [
      "0 0.6182853310370484\n",
      "1 0.913824386755295\n",
      "2 0.7699986529069053\n",
      "3 0.737997625291962\n",
      "4 0.7154784091683322\n",
      "5 0.4700611638933027\n",
      "6 0.9455930269681491\n",
      "7 0.5880411255049803\n",
      "8 0.483544480065558\n",
      "9 0.6091528130002436\n",
      "10 0.6472557354183913\n",
      "11 0.59940131356783\n",
      "12 0.6096128592291382\n",
      "13 0.6148600955661252\n",
      "14 0.6327055514215709\n",
      "15 0.7666011817102552\n",
      "16 0.8793999354044596\n",
      "17 0.6910316438923095\n",
      "18 0.6277375060242492\n",
      "19 0.4773903375939478\n",
      "20 0.5658946697528545\n",
      "21 0.5216715166645666\n",
      "22 0.7474893318531652\n",
      "23 0.5914238207267992\n",
      "24 0.7118936063941389\n",
      "25 0.5402168273925781\n",
      "26 0.9355182960385182\n",
      "27 0.6104378736656131\n",
      "28 0.6981915521888094\n",
      "29 0.7762993633360894\n"
     ]
    }
   ],
   "source": [
    "for cluster in range(30):\n",
    "    print(cluster,cosine_sims[cluster][\"centroid_sim\"].mean())"
   ]
  },
  {
   "cell_type": "code",
   "execution_count": 161,
   "id": "cfa22b85",
   "metadata": {},
   "outputs": [
    {
     "data": {
      "text/html": [
       "<div>\n",
       "<style scoped>\n",
       "    .dataframe tbody tr th:only-of-type {\n",
       "        vertical-align: middle;\n",
       "    }\n",
       "\n",
       "    .dataframe tbody tr th {\n",
       "        vertical-align: top;\n",
       "    }\n",
       "\n",
       "    .dataframe thead th {\n",
       "        text-align: right;\n",
       "    }\n",
       "</style>\n",
       "<table border=\"1\" class=\"dataframe\">\n",
       "  <thead>\n",
       "    <tr style=\"text-align: right;\">\n",
       "      <th></th>\n",
       "      <th>url</th>\n",
       "      <th>centroid_sim</th>\n",
       "    </tr>\n",
       "  </thead>\n",
       "  <tbody>\n",
       "    <tr>\n",
       "      <th>398</th>\n",
       "      <td>http://www.atomicmall.com/view?id=Australia-Ma...</td>\n",
       "      <td>0.823941</td>\n",
       "    </tr>\n",
       "    <tr>\n",
       "      <th>238</th>\n",
       "      <td>http://www.atomicmall.com/view?id=Stretch-Lace...</td>\n",
       "      <td>0.823873</td>\n",
       "    </tr>\n",
       "    <tr>\n",
       "      <th>523</th>\n",
       "      <td>http://www.atomicmall.com/view?id=For-Galaxy-N...</td>\n",
       "      <td>0.817096</td>\n",
       "    </tr>\n",
       "    <tr>\n",
       "      <th>533</th>\n",
       "      <td>http://www.atomicmall.com/view?id=Digital-Medi...</td>\n",
       "      <td>0.805082</td>\n",
       "    </tr>\n",
       "    <tr>\n",
       "      <th>122</th>\n",
       "      <td>http://www.atomicmall.com/related.php?pouch=Q0...</td>\n",
       "      <td>0.803883</td>\n",
       "    </tr>\n",
       "    <tr>\n",
       "      <th>...</th>\n",
       "      <td>...</td>\n",
       "      <td>...</td>\n",
       "    </tr>\n",
       "    <tr>\n",
       "      <th>320</th>\n",
       "      <td>http://www.seamheads.com/NegroLgs/manager.php?...</td>\n",
       "      <td>0.43161</td>\n",
       "    </tr>\n",
       "    <tr>\n",
       "      <th>195</th>\n",
       "      <td>http://seamheads.com/NegroLgs/player.php?playe...</td>\n",
       "      <td>0.43161</td>\n",
       "    </tr>\n",
       "    <tr>\n",
       "      <th>436</th>\n",
       "      <td>http://mail.seamheads.com/NegroLgs/player.php?...</td>\n",
       "      <td>0.431609</td>\n",
       "    </tr>\n",
       "    <tr>\n",
       "      <th>393</th>\n",
       "      <td>http://www.tattooexpo09.com/will-cbd-fail-a-ha...</td>\n",
       "      <td>0.415856</td>\n",
       "    </tr>\n",
       "    <tr>\n",
       "      <th>291</th>\n",
       "      <td>http://www.greencarreports.com/news/1065767_fi...</td>\n",
       "      <td>0.388372</td>\n",
       "    </tr>\n",
       "  </tbody>\n",
       "</table>\n",
       "<p>549 rows × 2 columns</p>\n",
       "</div>"
      ],
      "text/plain": [
       "                                                   url centroid_sim\n",
       "398  http://www.atomicmall.com/view?id=Australia-Ma...     0.823941\n",
       "238  http://www.atomicmall.com/view?id=Stretch-Lace...     0.823873\n",
       "523  http://www.atomicmall.com/view?id=For-Galaxy-N...     0.817096\n",
       "533  http://www.atomicmall.com/view?id=Digital-Medi...     0.805082\n",
       "122  http://www.atomicmall.com/related.php?pouch=Q0...     0.803883\n",
       "..                                                 ...          ...\n",
       "320  http://www.seamheads.com/NegroLgs/manager.php?...      0.43161\n",
       "195  http://seamheads.com/NegroLgs/player.php?playe...      0.43161\n",
       "436  http://mail.seamheads.com/NegroLgs/player.php?...     0.431609\n",
       "393  http://www.tattooexpo09.com/will-cbd-fail-a-ha...     0.415856\n",
       "291  http://www.greencarreports.com/news/1065767_fi...     0.388372\n",
       "\n",
       "[549 rows x 2 columns]"
      ]
     },
     "execution_count": 161,
     "metadata": {},
     "output_type": "execute_result"
    }
   ],
   "source": [
    "cosine_sims[12]"
   ]
  },
  {
   "cell_type": "code",
   "execution_count": 157,
   "id": "da5bbd76",
   "metadata": {},
   "outputs": [
    {
     "data": {
      "text/plain": [
       "(16804,)"
      ]
     },
     "execution_count": 157,
     "metadata": {},
     "output_type": "execute_result"
    }
   ],
   "source": []
  },
  {
   "cell_type": "code",
   "execution_count": null,
   "id": "1f6aa0bc",
   "metadata": {},
   "outputs": [],
   "source": []
  }
 ],
 "metadata": {
  "kernelspec": {
   "display_name": "Python 3 (ipykernel)",
   "language": "python",
   "name": "python3"
  },
  "language_info": {
   "codemirror_mode": {
    "name": "ipython",
    "version": 3
   },
   "file_extension": ".py",
   "mimetype": "text/x-python",
   "name": "python",
   "nbconvert_exporter": "python",
   "pygments_lexer": "ipython3",
   "version": "3.9.7"
  }
 },
 "nbformat": 4,
 "nbformat_minor": 5
}
